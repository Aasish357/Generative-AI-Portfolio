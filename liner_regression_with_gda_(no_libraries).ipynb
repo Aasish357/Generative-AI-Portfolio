{
  "nbformat": 4,
  "nbformat_minor": 0,
  "metadata": {
    "colab": {
      "provenance": [],
      "authorship_tag": "ABX9TyN09JOVWMKHuoiyoYyS9Uau",
      "include_colab_link": true
    },
    "kernelspec": {
      "name": "python3",
      "display_name": "Python 3"
    },
    "language_info": {
      "name": "python"
    }
  },
  "cells": [
    {
      "cell_type": "markdown",
      "metadata": {
        "id": "view-in-github",
        "colab_type": "text"
      },
      "source": [
        "<a href=\"https://colab.research.google.com/github/Aasish357/Generative-AI-Portfolio/blob/main/liner_regression_with_gda_(no_libraries).ipynb\" target=\"_parent\"><img src=\"https://colab.research.google.com/assets/colab-badge.svg\" alt=\"Open In Colab\"/></a>"
      ]
    },
    {
      "cell_type": "code",
      "execution_count": 26,
      "metadata": {
        "id": "en0D4G-2F5aD"
      },
      "outputs": [],
      "source": [
        "age = [20, 30, 25, 40, 27, 28, 22, 24, 31]\n",
        "exp = [0, 5, 2, 10, 4, 3.5, 1, 2, 6]\n",
        "\n",
        "import numpy as np\n",
        "age = np.array(age)\n",
        "exp = np.array(exp)\n",
        "income = age * 2 + exp * 3 + 5"
      ]
    },
    {
      "cell_type": "code",
      "source": [
        "# task : based on age, exp predict income.\n",
        "# step1: feature matrix (input matrix).\n",
        "ones = np.ones(len(age))\n",
        "X = np.c_[ones, age, exp]\n",
        "X.shape"
      ],
      "metadata": {
        "colab": {
          "base_uri": "https://localhost:8080/"
        },
        "id": "VHC-rSHCGmkB",
        "outputId": "66ab321e-86ee-4c17-8e86-45413ee7c007"
      },
      "execution_count": 27,
      "outputs": [
        {
          "output_type": "execute_result",
          "data": {
            "text/plain": [
              "(9, 3)"
            ]
          },
          "metadata": {},
          "execution_count": 27
        }
      ]
    },
    {
      "cell_type": "code",
      "source": [
        "Y = np.c_[income]\n",
        "Y.shape"
      ],
      "metadata": {
        "colab": {
          "base_uri": "https://localhost:8080/"
        },
        "id": "Y3A50pqgGyuB",
        "outputId": "7ae08356-fea1-4501-d72a-70f834131edc"
      },
      "execution_count": 28,
      "outputs": [
        {
          "output_type": "execute_result",
          "data": {
            "text/plain": [
              "(9, 1)"
            ]
          },
          "metadata": {},
          "execution_count": 28
        }
      ]
    },
    {
      "cell_type": "code",
      "source": [
        "# step 3: random weights.\n",
        "np.random.seed(101)\n",
        "W = np.random.random((X.shape[1], Y.shape[1])) *2 -1\n",
        "W"
      ],
      "metadata": {
        "colab": {
          "base_uri": "https://localhost:8080/"
        },
        "id": "2fUq2LwCGsYb",
        "outputId": "752f0f45-cbf6-4d4e-a3e1-d555543d9c7b"
      },
      "execution_count": 29,
      "outputs": [
        {
          "output_type": "execute_result",
          "data": {
            "text/plain": [
              "array([[ 0.03279726],\n",
              "       [ 0.14133517],\n",
              "       [-0.94305155]])"
            ]
          },
          "metadata": {},
          "execution_count": 29
        }
      ]
    },
    {
      "cell_type": "code",
      "source": [
        "# trial 1.\n",
        "# prediction\n",
        "ycap = X.dot(W)\n",
        "loss = ((Y-ycap)**2).mean()\n",
        "delta = X.T.dot(Y-ycap)/Y.size\n",
        "W += delta * 0.02\n",
        "print(\" Current Loss \", loss)"
      ],
      "metadata": {
        "colab": {
          "base_uri": "https://localhost:8080/"
        },
        "id": "7e_X2rT4G0Si",
        "outputId": "5cb76974-3ea1-417b-aa43-a2162e8280c2"
      },
      "execution_count": 30,
      "outputs": [
        {
          "output_type": "stream",
          "name": "stdout",
          "text": [
            " Current Loss  5458.898860217916\n"
          ]
        }
      ]
    },
    {
      "cell_type": "code",
      "source": [
        "# trial 2.\n",
        "# prediction\n",
        "ycap = X.dot(W)\n",
        "loss = ((Y-ycap)**2).mean()\n",
        "delta = X.T.dot(Y-ycap)/Y.size\n",
        "W += delta * 0.02\n",
        "print(\" Current Loss \", loss)"
      ],
      "metadata": {
        "colab": {
          "base_uri": "https://localhost:8080/"
        },
        "id": "k1NEONO7G2nJ",
        "outputId": "b29f148c-8e1e-4bca-c1e6-2afb6d927f38"
      },
      "execution_count": 31,
      "outputs": [
        {
          "output_type": "stream",
          "name": "stdout",
          "text": [
            " Current Loss  1229310.0198956437\n"
          ]
        }
      ]
    },
    {
      "cell_type": "code",
      "source": [
        "# trial 3\n",
        "# prediction\n",
        "ycap = X.dot(W)\n",
        "loss = ((Y-ycap)**2).mean()\n",
        "delta = X.T.dot(Y-ycap)/Y.size\n",
        "W += delta * 0.02\n",
        "print(\" Current Loss \", loss)"
      ],
      "metadata": {
        "colab": {
          "base_uri": "https://localhost:8080/"
        },
        "id": "ZXfRgAY_G5Vp",
        "outputId": "ed1178d4-4254-49fc-ec38-8b82474bab0e"
      },
      "execution_count": 32,
      "outputs": [
        {
          "output_type": "stream",
          "name": "stdout",
          "text": [
            " Current Loss  278905762.2752112\n"
          ]
        }
      ]
    },
    {
      "cell_type": "code",
      "source": [
        "# based on above trials ,  loss keep on increasing.\n",
        "# solution : scaling featurs and labels."
      ],
      "metadata": {
        "id": "ZIKG8M7ZG_f5"
      },
      "execution_count": 33,
      "outputs": []
    },
    {
      "cell_type": "code",
      "source": [
        "def scale(x):\n",
        "     return (x-x.mean())/x.std()"
      ],
      "metadata": {
        "id": "RVI3Au_MHBbi"
      },
      "execution_count": 34,
      "outputs": []
    },
    {
      "cell_type": "code",
      "source": [
        "scale(age).std()"
      ],
      "metadata": {
        "colab": {
          "base_uri": "https://localhost:8080/"
        },
        "id": "M3B6vjpFHEAx",
        "outputId": "5910f8b0-3b7c-499a-b55b-494c7f55177a"
      },
      "execution_count": 35,
      "outputs": [
        {
          "output_type": "execute_result",
          "data": {
            "text/plain": [
              "np.float64(1.0)"
            ]
          },
          "metadata": {},
          "execution_count": 35
        }
      ]
    },
    {
      "cell_type": "code",
      "source": [
        "\n",
        "scale(exp).std()\n"
      ],
      "metadata": {
        "colab": {
          "base_uri": "https://localhost:8080/"
        },
        "id": "mHxPVxJCHG8S",
        "outputId": "738de3e4-0e56-43b8-e272-d8c8397877fc"
      },
      "execution_count": 36,
      "outputs": [
        {
          "output_type": "execute_result",
          "data": {
            "text/plain": [
              "np.float64(1.0000000000000002)"
            ]
          },
          "metadata": {},
          "execution_count": 36
        }
      ]
    },
    {
      "cell_type": "code",
      "source": [
        "scale(income).std()"
      ],
      "metadata": {
        "colab": {
          "base_uri": "https://localhost:8080/"
        },
        "id": "_dCldA1THKV0",
        "outputId": "fa392794-b71d-43ab-c725-14eb0a677a8b"
      },
      "execution_count": 37,
      "outputs": [
        {
          "output_type": "execute_result",
          "data": {
            "text/plain": [
              "np.float64(1.0)"
            ]
          },
          "metadata": {},
          "execution_count": 37
        }
      ]
    },
    {
      "cell_type": "code",
      "source": [
        "X_original = X.copy()\n",
        "def scaleMatrix(x):\n",
        " for i in range(x.shape[1]):\n",
        "   if i!=0:\n",
        "        x[:, i] = scale(x[:, i])\n",
        " return x\n"
      ],
      "metadata": {
        "id": "8xr5pr5JHTeU"
      },
      "execution_count": 38,
      "outputs": []
    },
    {
      "cell_type": "code",
      "source": [
        "X = scaleMatrix(X)\n",
        "X"
      ],
      "metadata": {
        "colab": {
          "base_uri": "https://localhost:8080/"
        },
        "id": "G6O4YwMMHVwD",
        "outputId": "6275ba3a-cdc4-46c2-831d-24d75172c7da"
      },
      "execution_count": 39,
      "outputs": [
        {
          "output_type": "execute_result",
          "data": {
            "text/plain": [
              "array([[ 1.        , -1.33414263, -1.30201447],\n",
              "       [ 1.        ,  0.45798926,  0.44696019],\n",
              "       [ 1.        , -0.43807668, -0.60242461],\n",
              "       [ 1.        ,  2.25012115,  2.19593486],\n",
              "       [ 1.        , -0.07965031,  0.09716526],\n",
              "       [ 1.        ,  0.09956288, -0.07773221],\n",
              "       [ 1.        , -0.97571625, -0.95221954],\n",
              "       [ 1.        , -0.61728987, -0.60242461],\n",
              "       [ 1.        ,  0.63720245,  0.79675513]])"
            ]
          },
          "metadata": {},
          "execution_count": 39
        }
      ]
    },
    {
      "cell_type": "code",
      "source": [
        "Y_original = Y.copy()\n",
        "Y = scale(Y)"
      ],
      "metadata": {
        "id": "CEofMFqMHbmV"
      },
      "execution_count": 40,
      "outputs": []
    },
    {
      "cell_type": "code",
      "source": [
        "# trials after scaling.\n",
        "np.random.seed(101)\n",
        "r = X.shape[1]\n",
        "c = Y.shape[1]\n",
        "W = np.random.random((r, c)) * 2 - 1\n",
        "W"
      ],
      "metadata": {
        "colab": {
          "base_uri": "https://localhost:8080/"
        },
        "id": "qGHYQXE6HcrN",
        "outputId": "10b11c74-8314-4410-9fbc-5b2f685bad5b"
      },
      "execution_count": 41,
      "outputs": [
        {
          "output_type": "execute_result",
          "data": {
            "text/plain": [
              "array([[ 0.03279726],\n",
              "       [ 0.14133517],\n",
              "       [-0.94305155]])"
            ]
          },
          "metadata": {},
          "execution_count": 41
        }
      ]
    },
    {
      "cell_type": "code",
      "source": [
        "# trial 1.\n",
        "ycap = X.dot(W)\n",
        "loss = ((Y-ycap)**2).mean()\n",
        "delta = X.T.dot(Y-ycap)/Y.size\n",
        "W += delta * 0.02\n",
        "print(\"Current loss \", loss)"
      ],
      "metadata": {
        "colab": {
          "base_uri": "https://localhost:8080/"
        },
        "id": "gBIUOSqKHf7L",
        "outputId": "de93ca8f-578b-4fad-c190-172a9c628b45"
      },
      "execution_count": 42,
      "outputs": [
        {
          "output_type": "stream",
          "name": "stdout",
          "text": [
            "Current loss  3.2453659375004267\n"
          ]
        }
      ]
    },
    {
      "cell_type": "code",
      "source": [
        "# trial 2.\n",
        "ycap = X.dot(W)\n",
        "loss = ((Y-ycap)**2).mean()\n",
        "delta = X.T.dot(Y-ycap)/Y.size\n",
        "W += delta * 0.02\n",
        "print(\"Current loss \", loss)"
      ],
      "metadata": {
        "colab": {
          "base_uri": "https://localhost:8080/"
        },
        "id": "lRHzwWGyHiar",
        "outputId": "cced1237-160b-4cf3-cf92-38c923b9248e"
      },
      "execution_count": 43,
      "outputs": [
        {
          "output_type": "stream",
          "name": "stdout",
          "text": [
            "Current loss  2.9920377238515714\n"
          ]
        }
      ]
    },
    {
      "cell_type": "code",
      "source": [
        "# trial 3\n",
        "ycap = X.dot(W)\n",
        "loss = ((Y-ycap)**2).mean()\n",
        "delta = X.T.dot(Y-ycap)/Y.size\n",
        "W += delta * 0.02\n",
        "print(\"Current loss \", loss)"
      ],
      "metadata": {
        "colab": {
          "base_uri": "https://localhost:8080/"
        },
        "id": "u-lyBnuoHkbD",
        "outputId": "a2a5c7f3-952b-4ca6-9269-6f5c9d04edd5"
      },
      "execution_count": 44,
      "outputs": [
        {
          "output_type": "stream",
          "name": "stdout",
          "text": [
            "Current loss  2.7585038659152286\n"
          ]
        }
      ]
    },
    {
      "cell_type": "code",
      "source": [
        "convergence = 0.0000001\n",
        "ploss =0\n",
        "flag=0\n",
        "for i in range(100000):\n",
        "     ycap = X.dot(W)\n",
        "     closs = ((Y-ycap)**2).mean()\n",
        "     if i%100==0:\n",
        "       print(f\"Current loss after {i+1} iterations {closs}\")\n",
        "     delta = X.T.dot(Y-ycap)/Y.size\n",
        "     W += delta * 0.02\n",
        "     if np.abs(ploss-closs)<=convergence:\n",
        "          print(f\" Training is completed after {i+1} iterations \")\n",
        "          flag=1\n",
        "          break\n",
        "     ploss = closs\n",
        "\n",
        "if flag==0:\n",
        "  print(\" Training not completed , run few more iterations \")\n"
      ],
      "metadata": {
        "colab": {
          "base_uri": "https://localhost:8080/"
        },
        "id": "xMnl7bbAHnJ0",
        "outputId": "c1a66c2a-6294-449f-8541-042f174f8402"
      },
      "execution_count": 45,
      "outputs": [
        {
          "output_type": "stream",
          "name": "stdout",
          "text": [
            "Current loss after 1 iterations 2.543217620112224\n",
            "Current loss after 101 iterations 0.0037074985808627763\n",
            "Current loss after 201 iterations 0.002870616908817354\n",
            "Current loss after 301 iterations 0.0027945631551455938\n",
            "Current loss after 401 iterations 0.0027209997276762877\n",
            "Current loss after 501 iterations 0.0026493775658244143\n",
            "Current loss after 601 iterations 0.002579640726066166\n",
            "Current loss after 701 iterations 0.0025117394988555222\n",
            "Current loss after 801 iterations 0.0024456255657733426\n",
            "Current loss after 901 iterations 0.0023812518816902005\n",
            "Current loss after 1001 iterations 0.0023185726398227695\n",
            "Current loss after 1101 iterations 0.0022575432391129515\n",
            "Current loss after 1201 iterations 0.0021981202524904227\n",
            "Current loss after 1301 iterations 0.002140261395970897\n",
            "Current loss after 1401 iterations 0.0020839254985679017\n",
            "Current loss after 1501 iterations 0.0020290724729964383\n",
            "Current loss after 1601 iterations 0.001975663287147847\n",
            "Current loss after 1701 iterations 0.0019236599363154877\n",
            "Current loss after 1801 iterations 0.0018730254161514863\n",
            "Current loss after 1901 iterations 0.0018237236963353212\n",
            "Current loss after 2001 iterations 0.001775719694935504\n",
            "Current loss after 2101 iterations 0.0017289792534461235\n",
            "Current loss after 2201 iterations 0.0016834691124804338\n",
            "Current loss after 2301 iterations 0.001639156888104308\n",
            "Current loss after 2401 iterations 0.001596011048792578\n",
            "Current loss after 2501 iterations 0.0015540008929919391\n",
            "Current loss after 2601 iterations 0.0015130965272744774\n",
            "Current loss after 2701 iterations 0.0014732688450662004\n",
            "Current loss after 2801 iterations 0.0014344895059355102\n",
            "Current loss after 2901 iterations 0.0013967309154268017\n",
            "Current loss after 3001 iterations 0.0013599662054249273\n",
            "Current loss after 3101 iterations 0.0013241692150364668\n",
            "Current loss after 3201 iterations 0.0012893144719742713\n",
            "Current loss after 3301 iterations 0.0012553771744319784\n",
            "Current loss after 3401 iterations 0.0012223331734356499\n",
            "Current loss after 3501 iterations 0.0011901589556599233\n",
            "Current loss after 3601 iterations 0.0011588316266964906\n",
            "Current loss after 3701 iterations 0.0011283288947629875\n",
            "Current loss after 3801 iterations 0.0010986290548406917\n",
            "Current loss after 3901 iterations 0.0010697109732297383\n",
            "Current loss after 4001 iterations 0.0010415540725108928\n",
            "Current loss after 4101 iterations 0.0010141383169031412\n",
            "Current loss after 4201 iterations 0.0009874441980067003\n",
            "Current loss after 4301 iterations 0.0009614527209213259\n",
            "Current loss after 4401 iterations 0.0009361453907299668\n",
            "Current loss after 4501 iterations 0.0009115041993382349\n",
            "Current loss after 4601 iterations 0.0008875116126602777\n",
            "Current loss after 4701 iterations 0.0008641505581419266\n",
            "Current loss after 4801 iterations 0.0008414044126122855\n",
            "Current loss after 4901 iterations 0.0008192569904550725\n",
            "Current loss after 5001 iterations 0.0007976925320913209\n",
            "Current loss after 5101 iterations 0.0007766956927652293\n",
            "Current loss after 5201 iterations 0.0007562515316252194\n",
            "Current loss after 5301 iterations 0.0007363455010923599\n",
            "Current loss after 5401 iterations 0.0007169634365086648\n",
            "Current loss after 5501 iterations 0.0006980915460578576\n",
            "Current loss after 5601 iterations 0.0006797164009514473\n",
            "Current loss after 5701 iterations 0.0006618249258731146\n",
            "Current loss after 5801 iterations 0.0006444043896746279\n",
            "Current loss after 5901 iterations 0.0006274423963166691\n",
            "Current loss after 6001 iterations 0.0006109268760481034\n",
            "Current loss after 6101 iterations 0.0005948460768174266\n",
            "Current loss after 6201 iterations 0.0005791885559102855\n",
            "Current loss after 6301 iterations 0.0005639431718071191\n",
            "Current loss after 6401 iterations 0.0005490990762551215\n",
            "Current loss after 6501 iterations 0.0005346457065488688\n",
            "Current loss after 6601 iterations 0.000520572778014162\n",
            "Current loss after 6701 iterations 0.0005068702766896945\n",
            "Current loss after 6801 iterations 0.0004935284522013508\n",
            "Current loss after 6901 iterations 0.00048053781082408036\n",
            "Current loss after 7001 iterations 0.00046788910872637884\n",
            "Current loss after 7101 iterations 0.0004555733453926068\n",
            "Current loss after 7201 iterations 0.0004435817572184268\n",
            "Current loss after 7301 iterations 0.0004319058112748439\n",
            "Current loss after 7401 iterations 0.00042053719923635925\n",
            "Current loss after 7501 iterations 0.00040946783146898215\n",
            "Current loss after 7601 iterations 0.000398689831273824\n",
            "Current loss after 7701 iterations 0.0003881955292822335\n",
            "Current loss after 7801 iterations 0.0003779774579984565\n",
            " Training is completed after 7833 iterations \n"
          ]
        }
      ]
    },
    {
      "cell_type": "code",
      "source": [
        "# rsquare.\n",
        "rss = ((Y-ycap)**2).sum()\n",
        "tss = ((Y-Y.mean())**2).sum()\n",
        "rs = 1 - (rss/tss)\n",
        "rs"
      ],
      "metadata": {
        "colab": {
          "base_uri": "https://localhost:8080/"
        },
        "id": "O1LENKjHHxjE",
        "outputId": "d40fefdd-400e-44df-aa08-8b7fc0bffc87"
      },
      "execution_count": 46,
      "outputs": [
        {
          "output_type": "execute_result",
          "data": {
            "text/plain": [
              "np.float64(0.9996252351777959)"
            ]
          },
          "metadata": {},
          "execution_count": 46
        }
      ]
    }
  ]
}