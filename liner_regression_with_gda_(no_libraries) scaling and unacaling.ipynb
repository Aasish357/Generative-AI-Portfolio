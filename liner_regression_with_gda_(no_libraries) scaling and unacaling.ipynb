{
  "nbformat": 4,
  "nbformat_minor": 0,
  "metadata": {
    "colab": {
      "provenance": [],
      "authorship_tag": "ABX9TyOQb4zqtwSmgY9IVrJds7O0",
      "include_colab_link": true
    },
    "kernelspec": {
      "name": "python3",
      "display_name": "Python 3"
    },
    "language_info": {
      "name": "python"
    }
  },
  "cells": [
    {
      "cell_type": "markdown",
      "metadata": {
        "id": "view-in-github",
        "colab_type": "text"
      },
      "source": [
        "<a href=\"https://colab.research.google.com/github/Aasish357/-Mission-Learning-/blob/main/liner_regression_with_gda_(no_libraries)%20scaling%20and%20unacaling.ipynb\" target=\"_parent\"><img src=\"https://colab.research.google.com/assets/colab-badge.svg\" alt=\"Open In Colab\"/></a>"
      ]
    },
    {
      "cell_type": "code",
      "execution_count": 1,
      "metadata": {
        "id": "en0D4G-2F5aD"
      },
      "outputs": [],
      "source": [
        "age = [20, 30, 25, 40, 27, 28, 22, 24, 31]\n",
        "exp = [0, 5, 2, 10, 4, 3.5, 1, 2, 6]\n",
        "\n",
        "import numpy as np\n",
        "age = np.array(age)\n",
        "exp = np.array(exp)\n",
        "income = age * 2 + exp * 3 + 5"
      ]
    },
    {
      "cell_type": "code",
      "source": [
        "# task : based on age, exp predict income.\n",
        "# step1: feature matrix (input matrix).\n",
        "ones = np.ones(len(age))\n",
        "X = np.c_[ones, age, exp]\n",
        "X.shape"
      ],
      "metadata": {
        "colab": {
          "base_uri": "https://localhost:8080/"
        },
        "id": "VHC-rSHCGmkB",
        "outputId": "24d28f41-8676-4384-ba2d-b12727567fc0"
      },
      "execution_count": 2,
      "outputs": [
        {
          "output_type": "execute_result",
          "data": {
            "text/plain": [
              "(9, 3)"
            ]
          },
          "metadata": {},
          "execution_count": 2
        }
      ]
    },
    {
      "cell_type": "code",
      "source": [
        "Y = np.c_[income]\n",
        "Y.shape"
      ],
      "metadata": {
        "colab": {
          "base_uri": "https://localhost:8080/"
        },
        "id": "Y3A50pqgGyuB",
        "outputId": "b4331623-0ecb-42f9-89bd-42e3f3f6a34b"
      },
      "execution_count": 3,
      "outputs": [
        {
          "output_type": "execute_result",
          "data": {
            "text/plain": [
              "(9, 1)"
            ]
          },
          "metadata": {},
          "execution_count": 3
        }
      ]
    },
    {
      "cell_type": "code",
      "source": [
        "# step 3: random weights.\n",
        "np.random.seed(101)\n",
        "W = np.random.random((X.shape[1], Y.shape[1])) *2 -1\n",
        "W"
      ],
      "metadata": {
        "colab": {
          "base_uri": "https://localhost:8080/"
        },
        "id": "2fUq2LwCGsYb",
        "outputId": "5bbb5603-8b42-437c-8585-914d1e6c6bdb"
      },
      "execution_count": 4,
      "outputs": [
        {
          "output_type": "execute_result",
          "data": {
            "text/plain": [
              "array([[ 0.03279726],\n",
              "       [ 0.14133517],\n",
              "       [-0.94305155]])"
            ]
          },
          "metadata": {},
          "execution_count": 4
        }
      ]
    },
    {
      "cell_type": "code",
      "source": [
        "# trial 1.\n",
        "# prediction\n",
        "ycap = X.dot(W)\n",
        "loss = ((Y-ycap)**2).mean()\n",
        "delta = X.T.dot(Y-ycap)/Y.size\n",
        "W += delta * 0.02\n",
        "print(\" Current Loss \", loss)"
      ],
      "metadata": {
        "colab": {
          "base_uri": "https://localhost:8080/"
        },
        "id": "7e_X2rT4G0Si",
        "outputId": "a9c57724-9a43-467f-9bd6-6c1d831cc207"
      },
      "execution_count": 5,
      "outputs": [
        {
          "output_type": "stream",
          "name": "stdout",
          "text": [
            " Current Loss  5458.898860217916\n"
          ]
        }
      ]
    },
    {
      "cell_type": "code",
      "source": [
        "# trial 2.\n",
        "# prediction\n",
        "ycap = X.dot(W)\n",
        "loss = ((Y-ycap)**2).mean()\n",
        "delta = X.T.dot(Y-ycap)/Y.size\n",
        "W += delta * 0.02\n",
        "print(\" Current Loss \", loss)"
      ],
      "metadata": {
        "colab": {
          "base_uri": "https://localhost:8080/"
        },
        "id": "k1NEONO7G2nJ",
        "outputId": "47c86691-f5e0-4f69-8924-5a5afd01f48a"
      },
      "execution_count": 6,
      "outputs": [
        {
          "output_type": "stream",
          "name": "stdout",
          "text": [
            " Current Loss  1229310.0198956437\n"
          ]
        }
      ]
    },
    {
      "cell_type": "code",
      "source": [
        "# trial 3\n",
        "# prediction\n",
        "ycap = X.dot(W)\n",
        "loss = ((Y-ycap)**2).mean()\n",
        "delta = X.T.dot(Y-ycap)/Y.size\n",
        "W += delta * 0.02\n",
        "print(\" Current Loss \", loss)"
      ],
      "metadata": {
        "colab": {
          "base_uri": "https://localhost:8080/"
        },
        "id": "ZXfRgAY_G5Vp",
        "outputId": "d1eb5dee-4cf7-4d98-eba3-e0e3b8057abe"
      },
      "execution_count": 7,
      "outputs": [
        {
          "output_type": "stream",
          "name": "stdout",
          "text": [
            " Current Loss  278905762.2752112\n"
          ]
        }
      ]
    },
    {
      "cell_type": "code",
      "source": [
        "# based on above trials ,  loss keep on increasing.\n",
        "# solution : scaling featurs and labels."
      ],
      "metadata": {
        "id": "ZIKG8M7ZG_f5"
      },
      "execution_count": 8,
      "outputs": []
    },
    {
      "cell_type": "code",
      "source": [
        "def scale(x):\n",
        "     return (x-x.mean())/x.std()"
      ],
      "metadata": {
        "id": "RVI3Au_MHBbi"
      },
      "execution_count": 9,
      "outputs": []
    },
    {
      "cell_type": "code",
      "source": [
        "scale(age).std()"
      ],
      "metadata": {
        "colab": {
          "base_uri": "https://localhost:8080/"
        },
        "id": "M3B6vjpFHEAx",
        "outputId": "a01885af-f42e-413c-9050-b757ff913d2a"
      },
      "execution_count": 10,
      "outputs": [
        {
          "output_type": "execute_result",
          "data": {
            "text/plain": [
              "np.float64(1.0)"
            ]
          },
          "metadata": {},
          "execution_count": 10
        }
      ]
    },
    {
      "cell_type": "code",
      "source": [
        "\n",
        "scale(exp).std()\n"
      ],
      "metadata": {
        "colab": {
          "base_uri": "https://localhost:8080/"
        },
        "id": "mHxPVxJCHG8S",
        "outputId": "20907442-5f61-460b-81a9-720a53b624c0"
      },
      "execution_count": 11,
      "outputs": [
        {
          "output_type": "execute_result",
          "data": {
            "text/plain": [
              "np.float64(1.0000000000000002)"
            ]
          },
          "metadata": {},
          "execution_count": 11
        }
      ]
    },
    {
      "cell_type": "code",
      "source": [
        "scale(income).std()"
      ],
      "metadata": {
        "colab": {
          "base_uri": "https://localhost:8080/"
        },
        "id": "_dCldA1THKV0",
        "outputId": "d5882bd2-a6e6-4aa9-93d7-065f4a7f0d96"
      },
      "execution_count": 12,
      "outputs": [
        {
          "output_type": "execute_result",
          "data": {
            "text/plain": [
              "np.float64(1.0)"
            ]
          },
          "metadata": {},
          "execution_count": 12
        }
      ]
    },
    {
      "cell_type": "code",
      "source": [
        "X_original = X.copy()\n",
        "def scaleMatrix(x):\n",
        " for i in range(x.shape[1]):\n",
        "   if i!=0:\n",
        "        x[:, i] = scale(x[:, i])\n",
        " return x\n"
      ],
      "metadata": {
        "id": "8xr5pr5JHTeU"
      },
      "execution_count": 13,
      "outputs": []
    },
    {
      "cell_type": "code",
      "source": [
        "X = scaleMatrix(X)\n",
        "X"
      ],
      "metadata": {
        "colab": {
          "base_uri": "https://localhost:8080/"
        },
        "id": "G6O4YwMMHVwD",
        "outputId": "98f83d8e-e1c6-4b97-b87d-9897804640f2"
      },
      "execution_count": 14,
      "outputs": [
        {
          "output_type": "execute_result",
          "data": {
            "text/plain": [
              "array([[ 1.        , -1.33414263, -1.30201447],\n",
              "       [ 1.        ,  0.45798926,  0.44696019],\n",
              "       [ 1.        , -0.43807668, -0.60242461],\n",
              "       [ 1.        ,  2.25012115,  2.19593486],\n",
              "       [ 1.        , -0.07965031,  0.09716526],\n",
              "       [ 1.        ,  0.09956288, -0.07773221],\n",
              "       [ 1.        , -0.97571625, -0.95221954],\n",
              "       [ 1.        , -0.61728987, -0.60242461],\n",
              "       [ 1.        ,  0.63720245,  0.79675513]])"
            ]
          },
          "metadata": {},
          "execution_count": 14
        }
      ]
    },
    {
      "cell_type": "code",
      "source": [
        "Y_original = Y.copy()\n",
        "Y = scale(Y)"
      ],
      "metadata": {
        "id": "CEofMFqMHbmV"
      },
      "execution_count": 15,
      "outputs": []
    },
    {
      "cell_type": "code",
      "source": [
        "# trials after scaling.\n",
        "np.random.seed(101)\n",
        "r = X.shape[1]\n",
        "c = Y.shape[1]\n",
        "W = np.random.random((r, c)) * 2 - 1\n",
        "W"
      ],
      "metadata": {
        "colab": {
          "base_uri": "https://localhost:8080/"
        },
        "id": "qGHYQXE6HcrN",
        "outputId": "1c6c5603-3975-4041-b13a-2b07932bbd26"
      },
      "execution_count": 16,
      "outputs": [
        {
          "output_type": "execute_result",
          "data": {
            "text/plain": [
              "array([[ 0.03279726],\n",
              "       [ 0.14133517],\n",
              "       [-0.94305155]])"
            ]
          },
          "metadata": {},
          "execution_count": 16
        }
      ]
    },
    {
      "cell_type": "code",
      "source": [
        "# trial 1.\n",
        "ycap = X.dot(W)\n",
        "loss = ((Y-ycap)**2).mean()\n",
        "delta = X.T.dot(Y-ycap)/Y.size\n",
        "W += delta * 0.02\n",
        "print(\"Current loss \", loss)"
      ],
      "metadata": {
        "colab": {
          "base_uri": "https://localhost:8080/"
        },
        "id": "gBIUOSqKHf7L",
        "outputId": "710717b5-e8ac-4120-d6e7-a78fc001e7d4"
      },
      "execution_count": 17,
      "outputs": [
        {
          "output_type": "stream",
          "name": "stdout",
          "text": [
            "Current loss  3.2453659375004267\n"
          ]
        }
      ]
    },
    {
      "cell_type": "code",
      "source": [
        "# trial 2.\n",
        "ycap = X.dot(W)\n",
        "loss = ((Y-ycap)**2).mean()\n",
        "delta = X.T.dot(Y-ycap)/Y.size\n",
        "W += delta * 0.02\n",
        "print(\"Current loss \", loss)"
      ],
      "metadata": {
        "colab": {
          "base_uri": "https://localhost:8080/"
        },
        "id": "lRHzwWGyHiar",
        "outputId": "14f037a1-7f2a-4b3e-befc-d21f5ccfacd6"
      },
      "execution_count": 18,
      "outputs": [
        {
          "output_type": "stream",
          "name": "stdout",
          "text": [
            "Current loss  2.9920377238515714\n"
          ]
        }
      ]
    },
    {
      "cell_type": "code",
      "source": [
        "# trial 3\n",
        "ycap = X.dot(W)\n",
        "loss = ((Y-ycap)**2).mean()\n",
        "delta = X.T.dot(Y-ycap)/Y.size\n",
        "W += delta * 0.02\n",
        "print(\"Current loss \", loss)"
      ],
      "metadata": {
        "colab": {
          "base_uri": "https://localhost:8080/"
        },
        "id": "u-lyBnuoHkbD",
        "outputId": "075fe59e-08b1-4b48-ff9a-eead41765957"
      },
      "execution_count": 19,
      "outputs": [
        {
          "output_type": "stream",
          "name": "stdout",
          "text": [
            "Current loss  2.7585038659152286\n"
          ]
        }
      ]
    },
    {
      "cell_type": "code",
      "source": [
        "convergence = 0.0000001\n",
        "ploss =0\n",
        "flag=0\n",
        "for i in range(100000):\n",
        "     ycap = X.dot(W)\n",
        "     closs = ((Y-ycap)**2).mean()\n",
        "     if i%100==0:\n",
        "       print(f\"Current loss after {i+1} iterations {closs}\")\n",
        "     delta = X.T.dot(Y-ycap)/Y.size\n",
        "     W += delta * 0.02\n",
        "     if np.abs(ploss-closs)<=convergence:\n",
        "          print(f\" Training is completed after {i+1} iterations \")\n",
        "          flag=1\n",
        "          break\n",
        "     ploss = closs\n",
        "\n",
        "if flag==0:\n",
        "  print(\" Training not completed , run few more iterations \")\n"
      ],
      "metadata": {
        "colab": {
          "base_uri": "https://localhost:8080/"
        },
        "id": "xMnl7bbAHnJ0",
        "outputId": "3e4fd244-3e42-4559-de3d-749a3bf0fc87"
      },
      "execution_count": 20,
      "outputs": [
        {
          "output_type": "stream",
          "name": "stdout",
          "text": [
            "Current loss after 1 iterations 2.543217620112224\n",
            "Current loss after 101 iterations 0.0037074985808627763\n",
            "Current loss after 201 iterations 0.002870616908817354\n",
            "Current loss after 301 iterations 0.0027945631551455938\n",
            "Current loss after 401 iterations 0.0027209997276762877\n",
            "Current loss after 501 iterations 0.0026493775658244143\n",
            "Current loss after 601 iterations 0.002579640726066166\n",
            "Current loss after 701 iterations 0.0025117394988555222\n",
            "Current loss after 801 iterations 0.0024456255657733426\n",
            "Current loss after 901 iterations 0.0023812518816902005\n",
            "Current loss after 1001 iterations 0.0023185726398227695\n",
            "Current loss after 1101 iterations 0.0022575432391129515\n",
            "Current loss after 1201 iterations 0.0021981202524904227\n",
            "Current loss after 1301 iterations 0.002140261395970897\n",
            "Current loss after 1401 iterations 0.0020839254985679017\n",
            "Current loss after 1501 iterations 0.0020290724729964383\n",
            "Current loss after 1601 iterations 0.001975663287147847\n",
            "Current loss after 1701 iterations 0.0019236599363154877\n",
            "Current loss after 1801 iterations 0.0018730254161514863\n",
            "Current loss after 1901 iterations 0.0018237236963353212\n",
            "Current loss after 2001 iterations 0.001775719694935504\n",
            "Current loss after 2101 iterations 0.0017289792534461235\n",
            "Current loss after 2201 iterations 0.0016834691124804338\n",
            "Current loss after 2301 iterations 0.001639156888104308\n",
            "Current loss after 2401 iterations 0.001596011048792578\n",
            "Current loss after 2501 iterations 0.0015540008929919391\n",
            "Current loss after 2601 iterations 0.0015130965272744774\n",
            "Current loss after 2701 iterations 0.0014732688450662004\n",
            "Current loss after 2801 iterations 0.0014344895059355102\n",
            "Current loss after 2901 iterations 0.0013967309154268017\n",
            "Current loss after 3001 iterations 0.0013599662054249273\n",
            "Current loss after 3101 iterations 0.0013241692150364668\n",
            "Current loss after 3201 iterations 0.0012893144719742713\n",
            "Current loss after 3301 iterations 0.0012553771744319784\n",
            "Current loss after 3401 iterations 0.0012223331734356499\n",
            "Current loss after 3501 iterations 0.0011901589556599233\n",
            "Current loss after 3601 iterations 0.0011588316266964906\n",
            "Current loss after 3701 iterations 0.0011283288947629875\n",
            "Current loss after 3801 iterations 0.0010986290548406917\n",
            "Current loss after 3901 iterations 0.0010697109732297383\n",
            "Current loss after 4001 iterations 0.0010415540725108928\n",
            "Current loss after 4101 iterations 0.0010141383169031412\n",
            "Current loss after 4201 iterations 0.0009874441980067003\n",
            "Current loss after 4301 iterations 0.0009614527209213259\n",
            "Current loss after 4401 iterations 0.0009361453907299668\n",
            "Current loss after 4501 iterations 0.0009115041993382349\n",
            "Current loss after 4601 iterations 0.0008875116126602777\n",
            "Current loss after 4701 iterations 0.0008641505581419266\n",
            "Current loss after 4801 iterations 0.0008414044126122855\n",
            "Current loss after 4901 iterations 0.0008192569904550725\n",
            "Current loss after 5001 iterations 0.0007976925320913209\n",
            "Current loss after 5101 iterations 0.0007766956927652293\n",
            "Current loss after 5201 iterations 0.0007562515316252194\n",
            "Current loss after 5301 iterations 0.0007363455010923599\n",
            "Current loss after 5401 iterations 0.0007169634365086648\n",
            "Current loss after 5501 iterations 0.0006980915460578576\n",
            "Current loss after 5601 iterations 0.0006797164009514473\n",
            "Current loss after 5701 iterations 0.0006618249258731146\n",
            "Current loss after 5801 iterations 0.0006444043896746279\n",
            "Current loss after 5901 iterations 0.0006274423963166691\n",
            "Current loss after 6001 iterations 0.0006109268760481034\n",
            "Current loss after 6101 iterations 0.0005948460768174266\n",
            "Current loss after 6201 iterations 0.0005791885559102855\n",
            "Current loss after 6301 iterations 0.0005639431718071191\n",
            "Current loss after 6401 iterations 0.0005490990762551215\n",
            "Current loss after 6501 iterations 0.0005346457065488688\n",
            "Current loss after 6601 iterations 0.000520572778014162\n",
            "Current loss after 6701 iterations 0.0005068702766896945\n",
            "Current loss after 6801 iterations 0.0004935284522013508\n",
            "Current loss after 6901 iterations 0.00048053781082408036\n",
            "Current loss after 7001 iterations 0.00046788910872637884\n",
            "Current loss after 7101 iterations 0.0004555733453926068\n",
            "Current loss after 7201 iterations 0.0004435817572184268\n",
            "Current loss after 7301 iterations 0.0004319058112748439\n",
            "Current loss after 7401 iterations 0.00042053719923635925\n",
            "Current loss after 7501 iterations 0.00040946783146898215\n",
            "Current loss after 7601 iterations 0.000398689831273824\n",
            "Current loss after 7701 iterations 0.0003881955292822335\n",
            "Current loss after 7801 iterations 0.0003779774579984565\n",
            " Training is completed after 7833 iterations \n"
          ]
        }
      ]
    },
    {
      "cell_type": "code",
      "source": [
        "# rsquare.\n",
        "rss = ((Y-ycap)**2).sum()\n",
        "tss = ((Y-Y.mean())**2).sum()\n",
        "rs = 1 - (rss/tss)\n",
        "rs"
      ],
      "metadata": {
        "colab": {
          "base_uri": "https://localhost:8080/"
        },
        "id": "O1LENKjHHxjE",
        "outputId": "d209cd4c-6795-4a76-e151-c95ca163fcae"
      },
      "execution_count": 21,
      "outputs": [
        {
          "output_type": "execute_result",
          "data": {
            "text/plain": [
              "np.float64(0.9996252351777959)"
            ]
          },
          "metadata": {},
          "execution_count": 21
        }
      ]
    },
    {
      "cell_type": "code",
      "source": [
        "# how to unscale output.\n"
      ],
      "metadata": {
        "id": "5DzcHrDrUHYs"
      },
      "execution_count": 22,
      "outputs": []
    },
    {
      "cell_type": "code",
      "source": [
        "ystd = Y_original.std()\n",
        "ystd"
      ],
      "metadata": {
        "id": "GHigVkayUJ4b",
        "outputId": "1e38f6a0-f095-4f6d-8e3e-378b99b4be22",
        "colab": {
          "base_uri": "https://localhost:8080/"
        }
      },
      "execution_count": 23,
      "outputs": [
        {
          "output_type": "execute_result",
          "data": {
            "text/plain": [
              "np.float64(19.703982175698567)"
            ]
          },
          "metadata": {},
          "execution_count": 23
        }
      ]
    },
    {
      "cell_type": "code",
      "source": [
        "ymean = Y_original.mean()\n",
        "ymean"
      ],
      "metadata": {
        "id": "5ILvxU3PUOkL",
        "outputId": "7199e9c2-fbd9-4e29-c484-012fc8d542a1",
        "colab": {
          "base_uri": "https://localhost:8080/"
        }
      },
      "execution_count": 32,
      "outputs": [
        {
          "output_type": "execute_result",
          "data": {
            "text/plain": [
              "np.float64(71.05555555555556)"
            ]
          },
          "metadata": {},
          "execution_count": 32
        }
      ]
    },
    {
      "cell_type": "code",
      "source": [
        "ycap_unscaled = ycap * ystd + ymean\n",
        "ycap_unscaled"
      ],
      "metadata": {
        "id": "C8y360WKUQmi",
        "outputId": "b8468143-dc73-4f06-a795-3a570d671f3e",
        "colab": {
          "base_uri": "https://localhost:8080/"
        }
      },
      "execution_count": 34,
      "outputs": [
        {
          "output_type": "execute_result",
          "data": {
            "text/plain": [
              "array([[ 44.89387938],\n",
              "       [ 80.03642947],\n",
              "       [ 61.54284794],\n",
              "       [115.17897955],\n",
              "       [ 70.41597092],\n",
              "       [ 72.08561297],\n",
              "       [ 51.9223894 ],\n",
              "       [ 58.95089942],\n",
              "       [ 84.47299096]])"
            ]
          },
          "metadata": {},
          "execution_count": 34
        }
      ]
    },
    {
      "cell_type": "code",
      "source": [
        "np.c_[Y_original, ycap_unscaled]"
      ],
      "metadata": {
        "id": "krpcrCUoUsNj",
        "outputId": "60582e00-f816-4604-cc2f-6fdcc9adf9b6",
        "colab": {
          "base_uri": "https://localhost:8080/"
        }
      },
      "execution_count": 35,
      "outputs": [
        {
          "output_type": "execute_result",
          "data": {
            "text/plain": [
              "array([[ 45.        ,  44.89387938],\n",
              "       [ 80.        ,  80.03642947],\n",
              "       [ 61.        ,  61.54284794],\n",
              "       [115.        , 115.17897955],\n",
              "       [ 71.        ,  70.41597092],\n",
              "       [ 71.5       ,  72.08561297],\n",
              "       [ 52.        ,  51.9223894 ],\n",
              "       [ 59.        ,  58.95089942],\n",
              "       [ 85.        ,  84.47299096]])"
            ]
          },
          "metadata": {},
          "execution_count": 35
        }
      ]
    },
    {
      "cell_type": "code",
      "source": [
        "# rsquare\n",
        "# rs = 1-rss/tss\n",
        "rss = ((Y_original - ycap_unscaled)**2).sum()\n",
        "tss = (( Y_original - ymean) ** 2).sum()\n",
        "rs = 1-(rss/tss)\n",
        "print(\" Model's Accuracy \", rs*100)"
      ],
      "metadata": {
        "id": "aX6XAtdoUvfK",
        "outputId": "465b2783-e611-4f9a-dca7-3af5dfb98eff",
        "colab": {
          "base_uri": "https://localhost:8080/"
        }
      },
      "execution_count": 36,
      "outputs": [
        {
          "output_type": "stream",
          "name": "stdout",
          "text": [
            " Model's Accuracy  99.96252351777959\n"
          ]
        }
      ]
    }
  ]
}